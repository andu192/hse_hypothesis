{
 "cells": [
  {
   "cell_type": "markdown",
   "metadata": {},
   "source": [
    "## Проверка гипотез"
   ]
  },
  {
   "cell_type": "markdown",
   "metadata": {},
   "source": [
    "*Где используется проверка гипотез?*\n",
    "\n",
    " * в медицине для изучения эффективности клинических испытаний\n",
    " * маркетологами, менеджерами, дизайнерами при A/B тестировании\n",
    " * в машинном обучении для отбора признаков\n",
    " * в курсах по математической статистике и анализу данных"
   ]
  },
  {
   "cell_type": "markdown",
   "metadata": {},
   "source": [
    "<center>\n",
    "<img src=\"final-1.jpg\" width=\"800\" height=\"400\">\n",
    "</center>"
   ]
  },
  {
   "cell_type": "markdown",
   "metadata": {},
   "source": [
    "*Теперь давайте вспомним!*"
   ]
  },
  {
   "cell_type": "markdown",
   "metadata": {},
   "source": [
    "**Статистическая гипотеза** — это определённое предположение о распределении вероятностей, лежащем в основе наблюдаемой выборки данных."
   ]
  },
  {
   "cell_type": "markdown",
   "metadata": {},
   "source": [
    "**Проверка статистической гипотезы** — это процесс принятия решения о том, противоречит ли рассматриваемая статистическая гипотеза наблюдаемой выборке данных."
   ]
  },
  {
   "cell_type": "markdown",
   "metadata": {},
   "source": [
    "**Статистический тест или  критерий** — строгое математическое правило, по которому принимается или отвергается статистическая гипотеза."
   ]
  },
  {
   "cell_type": "markdown",
   "metadata": {},
   "source": [
    "Если гипотез всего две, то одну из них принято называть основной, а другую — альтернативой, или отклонением от основной гипотезы.\n",
    "\n",
    "$$ H_0 - \\textit{основная гипотеза}$$ \n",
    "$$ H_a - \\textit{альтернативная гипотеза}$$"
   ]
  },
  {
   "cell_type": "markdown",
   "metadata": {},
   "source": [
    "<center>\n",
    "<img src=\"alter_h.png\" width=\"800\" height=\"400\">\n",
    "</center>"
   ]
  },
  {
   "cell_type": "markdown",
   "metadata": {},
   "source": [
    "\n",
    "\n",
    "Типы гипотез:\n",
    "\n",
    "* Выбор из нескольких простых гипотез:\n",
    "\n",
    "$$ H_1: \\{F = F_1\\} $$\n",
    "$$ H_2: \\{F = F_2\\} $$\n",
    "\n",
    "* Простая основная гипотеза и сложная альтернатива:\n",
    "\n",
    "$$ H_1: \\{F = F_1\\} $$\n",
    "$$ H_2: \\{F \\neq F_1\\} $$\n",
    "\n",
    "* Сложная основная гипотеза и сложная альтернатива:\n",
    "\n",
    "$$ H_1: \\{F \\in \\mathbb{F}\\} $$\n",
    "$$ H_2: \\{F \\notin \\mathbb{F}\\} $$\n",
    "\n",
    "* а также гипотезы однородности, независимости и случайности выборок\n"
   ]
  },
  {
   "cell_type": "markdown",
   "metadata": {},
   "source": [
    "**Важно помнить:**\n",
    "\n",
    "* Статистический тест не отвечает на вопрос, верна ли гипотеза, а выясняет противоречат ли имеющиеся данные выдвинутой гипотезе.\n",
    "\n",
    "* Вывод «данные противоречат гипотезе» всегда весомее, чем вывод «данные не противоречат гипотезе»"
   ]
  },
  {
   "cell_type": "markdown",
   "metadata": {},
   "source": [
    "<center>\n",
    "<img src=\"sem_5_p2.png\" width=\"800\" height=\"400\">\n",
    "</center>"
   ]
  },
  {
   "cell_type": "markdown",
   "metadata": {},
   "source": [
    "\n",
    "**Самые популярные тесты:**\n",
    "\n",
    "* Z-тест\n",
    "* T-тест\n",
    "* ANOVA\n",
    "* Хи-квадрат тест \n",
    "\n",
    "В данном семинаре будем использовать первые два: Z-тест и T-тест"
   ]
  },
  {
   "cell_type": "markdown",
   "metadata": {},
   "source": [
    "* T-тест: сравнение двух групп/категорий числовых переменных с небольшим размером выборки\n",
    "* Z-тест: сравнение двух групп/категорий числовых переменных с большим размером выборки\n",
    "* Тест ANOVA: сравнение разницы между двумя или более группами/категориями числовых переменных\n",
    "* Тест Chi-Squared: исследование взаимосвязи между двумя категориальными переменными\n",
    "* Корреляция: исследование взаимосвязи между двумя числовыми переменными"
   ]
  },
  {
   "cell_type": "markdown",
   "metadata": {},
   "source": [
    "**Простой пример с монеткой**\n",
    "\n",
    "У вас есть монета, и вы не знаете, \"правильная\" ли она.\n",
    "\n",
    "$$ H_0: \\textit{монета правильная} $$ \n",
    "$$ H_a: \\textit{монета неправильная} $$ \n",
    "\n",
    "\n",
    "\n"
   ]
  },
  {
   "cell_type": "markdown",
   "metadata": {},
   "source": [
    "## 4 шага для проверки гипотезы"
   ]
  },
  {
   "cell_type": "markdown",
   "metadata": {},
   "source": [
    "Шаг 1: Сформулировать гипотезу\n",
    "\n",
    "Шаг 2: Выбрать критерий\n",
    "\n",
    "Шаг 3: Посчитать тестовую статистику\n",
    "\n",
    "Шаг 4: Сделать вывод"
   ]
  },
  {
   "cell_type": "markdown",
   "metadata": {},
   "source": [
    "**Разберем на примере** *(особенно актуальном для студентов)*"
   ]
  },
  {
   "cell_type": "markdown",
   "metadata": {},
   "source": [
    "## Z-тест"
   ]
  },
  {
   "cell_type": "markdown",
   "metadata": {},
   "source": [
    "Для применения данного критерия необходимо, чтобы:\n",
    "\n",
    "* исходные данные имели **нормальное распределение**\n",
    "* была **известна дисперсия** генеральной совокупности"
   ]
  },
  {
   "cell_type": "markdown",
   "metadata": {},
   "source": [
    "Проверим гипотезу, что **в среднем человек спит 7 часов в сутки.**"
   ]
  },
  {
   "cell_type": "markdown",
   "metadata": {},
   "source": [
    "Тогда генеральная совокупность - это все люди.\n",
    "\n",
    "Предположим, что мы провели опрос и выяснили, что в среднем опрошенные респонденты спят 7.5 часов, что на полчаса больше, чем мы изначально предположили, а стандартное отклонение равно 1 часу.\n",
    "\n",
    "Теперь необходимо сформулировать гипотезу. \n",
    "\n",
    "$$ H_0: \\mu = 7 \\textit{, в среднем человек спит 7 часов в сутки}$$ \n",
    "\n",
    "Для альтернативной гипотезы есть 3 варианта: \n",
    "\n",
    "$$ H_a: \\mu \\neq 7 \\textit{, в среднем человек спит не 7 часов в сутки}$$ \n",
    "\n",
    "$$ H_a: \\mu > 7 \\textit{, в среднем человек спит больше 7 часов в сутки}$$ \n",
    "\n",
    "$$ H_a: \\mu < 7 \\textit{, в среднем человек спит меньше 7 часов в сутки}$$ \n",
    "\n",
    "\n",
    "\n"
   ]
  },
  {
   "cell_type": "markdown",
   "metadata": {},
   "source": [
    "**Шаг 1**\n",
    "\n",
    "Выберем первый вариант альтернативной гипотезы:\n",
    "$$ H_0: \\mu = 7 $$ \n",
    "$$ H_a: \\mu \\neq 7 $$ "
   ]
  },
  {
   "cell_type": "markdown",
   "metadata": {},
   "source": [
    "**Шаг 2**\n",
    "\n",
    "Зафиксируем уровень значимости: $\\alpha = 5\\%$"
   ]
  },
  {
   "cell_type": "markdown",
   "metadata": {},
   "source": [
    "Так как при альтернативной гипотезе значение может быть как больше, так и меньше 7, тест будет двусторонний.\n",
    "Уровень доверия 95% говорит о том, что в 95% случаев мы не отвергаем основную гипотезу.\n",
    "Тогда по 2.5% будет приходиться на хвосты распределения на картинке, то есть на области, где основная гипотеза отвергается."
   ]
  },
  {
   "cell_type": "markdown",
   "metadata": {},
   "source": [
    "<center>\n",
    "<img src=\"Z-2_tailed.png\" width=\"800\" height=\"400\">\n",
    "</center>"
   ]
  },
  {
   "cell_type": "markdown",
   "metadata": {},
   "source": [
    "Чтобы найти критические значения, начиная с которых будет отвергаться основная гипотеза, воспользуемся таблицей нормального распределения и выберем значение, которое приближает площадь под кривой к 0.0250. В данном случае это значение равно 1.96.\n",
    "Если значение нашей статистики больше 1.96 стандартных отклонений или меньше -1.96 стандартных отклонений, мы будем находиться в зоне отклонения и основная гипотеза будет отвергаться."
   ]
  },
  {
   "cell_type": "markdown",
   "metadata": {},
   "source": [
    "<center>\n",
    "<img src=\"n_table.png\" width=\"800\" height=\"400\">\n",
    "</center>"
   ]
  },
  {
   "cell_type": "markdown",
   "metadata": {},
   "source": [
    "Границы, где основная гипотеза не отвергается определены: [-1.96, 1.96]"
   ]
  },
  {
   "cell_type": "code",
   "execution_count": 1,
   "metadata": {},
   "outputs": [],
   "source": [
    "# импорт библиотек\n",
    "import numpy as np \n",
    "import pandas as pd    \n",
    "from scipy.stats import norm\n",
    "from scipy import stats"
   ]
  },
  {
   "cell_type": "code",
   "execution_count": 2,
   "metadata": {},
   "outputs": [
    {
     "name": "stdout",
     "output_type": "stream",
     "text": [
      "-1.9599639845400545 1.959963984540054\n"
     ]
    }
   ],
   "source": [
    "print(norm.ppf(0.025),norm.ppf(0.975))"
   ]
  },
  {
   "cell_type": "markdown",
   "metadata": {},
   "source": [
    "**Шаг 3**\n",
    "\n",
    "Теперь посчитаем тестовую статистику (в предположении, что у нас 100 наблюдений).\n",
    "\n",
    "$$\n",
    "Z_{stat} = \\frac{M - \\mu}{\\sigma / \\sqrt{n}} = \\frac{7.5 - 7}{1 / \\sqrt{100}} = 5 \n",
    "$$"
   ]
  },
  {
   "cell_type": "markdown",
   "metadata": {},
   "source": [
    "**Шаг 4**\n",
    "\n",
    "Осталось только сделать вывод: тестовая статистика равна 0.5 и принадлежит интервалу [-1.96, 1.96].\n",
    "\n",
    "Следовательно, основная гипотеза о том, что в среднем человек спит 7 часов в сутки, не отвергается.\n"
   ]
  },
  {
   "cell_type": "markdown",
   "metadata": {},
   "source": [
    "**Задание**\n",
    "\n",
    "А теперь предположите, что опрос проводился среди студентов ВШЭ во время сессии.\n",
    "Проведите повторный тест. Изменился ли Ваш ответ?"
   ]
  },
  {
   "cell_type": "markdown",
   "metadata": {},
   "source": [
    "**Переходим к коду:**"
   ]
  },
  {
   "cell_type": "code",
   "execution_count": 3,
   "metadata": {},
   "outputs": [
    {
     "name": "stdout",
     "output_type": "stream",
     "text": [
      "Z-statistics = 4.649        \n",
      " p-value = 0.0\n"
     ]
    }
   ],
   "source": [
    "from statsmodels.stats.weightstats import ztest as ztest\n",
    "\n",
    "# сгенерируем данные из нормального распределения с заданными параметрами\n",
    "\n",
    "mu, sigma = 7.5, 1\n",
    "\n",
    "np.random.seed(123)\n",
    "data = np.random.normal(mu, sigma, 100)\n",
    "\n",
    "# Z-тест:\n",
    "#   data - выборка\n",
    "#   value - значение нулевой гипотезы\n",
    "#   alternative - тип альтернативной гипотезы: 'two-sided', 'larger', 'smaller'\n",
    "\n",
    "result = ztest(data, value = 7.0, alternative = 'two-sided')\n",
    "\n",
    "print(f'Z-statistics = {round(result[0],3)}\\\n",
    "        \\n p-value = {round(result[1],3)}')"
   ]
  },
  {
   "cell_type": "markdown",
   "metadata": {},
   "source": [
    "Про **p-value** будем подробнее говорить на следующем семинаре, но забегая немного вперед, фактически, это вероятность ошибки при отклонении нулевой гипотезы или наименьшее значение уровня значимости, для которого рассчитанная статистика ведет к отказу от нулевой гипотезы."
   ]
  },
  {
   "cell_type": "markdown",
   "metadata": {},
   "source": [
    "Задание на Z-test: поэкспериментируйте с типом альтернативной гипотезы"
   ]
  },
  {
   "cell_type": "code",
   "execution_count": 4,
   "metadata": {},
   "outputs": [],
   "source": [
    "# YOUR CODE"
   ]
  },
  {
   "cell_type": "markdown",
   "metadata": {},
   "source": [
    "**Задача**\n",
    "\n",
    "Студенты в конце учебного года сдают итоговое тестирование по английскому языку по 10-бальной шкале. \n",
    "Вы предполагаете, что средняя оценка равна 6 и решаете опросить несколько старшекурсников.\n",
    "Получилась следующая выборка: 9, 7, 5, 10, 4, 6, 8.\n",
    "Также из наблюдений прошлых лет известно, что дисперсия равна 1.\n",
    "\n",
    "Проверьте гипотезу, что среднее равно 6 на уровне значимости 1% против односторонней альтернативы, что средний балл больше 6."
   ]
  },
  {
   "cell_type": "code",
   "execution_count": 5,
   "metadata": {},
   "outputs": [],
   "source": [
    "# YOUR CODE"
   ]
  },
  {
   "cell_type": "markdown",
   "metadata": {},
   "source": [
    "**Теперь немного о финансах...**"
   ]
  },
  {
   "cell_type": "markdown",
   "metadata": {},
   "source": [
    " Загрузим данные котировок акций и проверим гипотезу на реальных данных."
   ]
  },
  {
   "cell_type": "code",
   "execution_count": 6,
   "metadata": {},
   "outputs": [],
   "source": [
    "#!pip install quandl"
   ]
  },
  {
   "cell_type": "code",
   "execution_count": 7,
   "metadata": {},
   "outputs": [
    {
     "name": "stdout",
     "output_type": "stream",
     "text": [
      "<class 'pandas.core.frame.DataFrame'>\n",
      "DatetimeIndex: 9400 entries, 1980-12-12 to 2018-03-27\n",
      "Data columns (total 12 columns):\n",
      " #   Column       Non-Null Count  Dtype  \n",
      "---  ------       --------------  -----  \n",
      " 0   Open         9400 non-null   float64\n",
      " 1   High         9400 non-null   float64\n",
      " 2   Low          9400 non-null   float64\n",
      " 3   Close        9400 non-null   float64\n",
      " 4   Volume       9400 non-null   float64\n",
      " 5   Ex-Dividend  9400 non-null   float64\n",
      " 6   Split Ratio  9400 non-null   float64\n",
      " 7   Adj. Open    9400 non-null   float64\n",
      " 8   Adj. High    9400 non-null   float64\n",
      " 9   Adj. Low     9400 non-null   float64\n",
      " 10  Adj. Close   9400 non-null   float64\n",
      " 11  Adj. Volume  9400 non-null   float64\n",
      "dtypes: float64(12)\n",
      "memory usage: 954.7 KB\n",
      "None\n"
     ]
    }
   ],
   "source": [
    "import quandl\n",
    "# Загрузим данные котировок акций Apple с Quandl\n",
    "data = quandl.get('WIKI/AAPL')\n",
    "print(data.info())"
   ]
  },
  {
   "cell_type": "code",
   "execution_count": 8,
   "metadata": {},
   "outputs": [
    {
     "data": {
      "text/plain": [
       "DatetimeIndex(['1980-12-12', '1980-12-15', '1980-12-16', '1980-12-17',\n",
       "               '1980-12-18', '1980-12-19', '1980-12-22', '1980-12-23',\n",
       "               '1980-12-24', '1980-12-26',\n",
       "               ...\n",
       "               '2018-03-14', '2018-03-15', '2018-03-16', '2018-03-19',\n",
       "               '2018-03-20', '2018-03-21', '2018-03-22', '2018-03-23',\n",
       "               '2018-03-26', '2018-03-27'],\n",
       "              dtype='datetime64[ns]', name='Date', length=9400, freq=None)"
      ]
     },
     "execution_count": 8,
     "metadata": {},
     "output_type": "execute_result"
    }
   ],
   "source": [
    "# Данные с 1980 по 2018 год\n",
    "data.index"
   ]
  },
  {
   "cell_type": "code",
   "execution_count": 9,
   "metadata": {},
   "outputs": [
    {
     "data": {
      "text/plain": [
       "<AxesSubplot:xlabel='Date'>"
      ]
     },
     "execution_count": 9,
     "metadata": {},
     "output_type": "execute_result"
    },
    {
     "data": {
      "image/png": "[encoded data removed]",
      "text/plain": [
       "<Figure size 1080x360 with 1 Axes>"
      ]
     },
     "metadata": {
      "needs_background": "light"
     },
     "output_type": "display_data"
    }
   ],
   "source": [
    "# Возьмем цены закрытия c 2016 года\n",
    "\n",
    "prices = data['2016-01-01':]['Close']\n",
    "prices.plot(figsize=(15, 5))"
   ]
  },
  {
   "cell_type": "code",
   "execution_count": 10,
   "metadata": {},
   "outputs": [],
   "source": [
    "def log_returns(df):\n",
    "    \n",
    "    '''Calcualate log returns from close prices'''\n",
    "    \n",
    "    return np.log(1+df.pct_change())"
   ]
  },
  {
   "cell_type": "code",
   "execution_count": 11,
   "metadata": {},
   "outputs": [
    {
     "data": {
      "text/plain": [
       "<AxesSubplot:>"
      ]
     },
     "execution_count": 11,
     "metadata": {},
     "output_type": "execute_result"
    },
    {
     "data": {
      "image/png": "[encoded data removed]",
      "text/plain": [
       "<Figure size 1080x360 with 1 Axes>"
      ]
     },
     "metadata": {
      "needs_background": "light"
     },
     "output_type": "display_data"
    }
   ],
   "source": [
    "# рассчитаем ежедневную логарифмическую доходность и изобразим распределение на гистограмме\n",
    "returns = log_returns(prices).dropna()\n",
    "returns.hist(figsize=(15, 5), bins = 30)"
   ]
  },
  {
   "cell_type": "code",
   "execution_count": 12,
   "metadata": {},
   "outputs": [
    {
     "data": {
      "text/plain": [
       "<AxesSubplot:xlabel='Date'>"
      ]
     },
     "execution_count": 12,
     "metadata": {},
     "output_type": "execute_result"
    },
    {
     "data": {
      "image/png": "[encoded data removed]",
      "text/plain": [
       "<Figure size 1080x360 with 1 Axes>"
      ]
     },
     "metadata": {
      "needs_background": "light"
     },
     "output_type": "display_data"
    }
   ],
   "source": [
    "returns.plot(figsize=(15, 5))"
   ]
  },
  {
   "cell_type": "code",
   "execution_count": 13,
   "metadata": {},
   "outputs": [
    {
     "name": "stdout",
     "output_type": "stream",
     "text": [
      "Z-statistics = 1.465        \n",
      " p-value = 0.072\n"
     ]
    }
   ],
   "source": [
    "# простестируем гипотезу, что среднее по выборке равно 0, против альтернативной гипотезы, что среднее больше 0\n",
    "\n",
    "result = ztest(returns.values, value = 0, alternative = 'larger')\n",
    "\n",
    "print(f'Z-statistics = {round(result[0],3)}\\\n",
    "        \\n p-value = {round(result[1],3)}')\n"
   ]
  },
  {
   "cell_type": "markdown",
   "metadata": {},
   "source": [
    "Отвергается ли основная гипотеза? На каком уровне значимости?"
   ]
  },
  {
   "cell_type": "markdown",
   "metadata": {},
   "source": [
    "Попробуйте выбрать более широкое окно данных и повторить тест\n"
   ]
  },
  {
   "cell_type": "code",
   "execution_count": 14,
   "metadata": {},
   "outputs": [],
   "source": [
    "# YOUR CODE"
   ]
  },
  {
   "cell_type": "markdown",
   "metadata": {},
   "source": [
    "**Проверка гипотезы о доле**"
   ]
  },
  {
   "cell_type": "markdown",
   "metadata": {},
   "source": [
    "Проверка гипотезы $H_0: p=p_0$ о доле $p$ признака в генеральной совокупности также проводится с помощью z-статистики."
   ]
  },
  {
   "cell_type": "markdown",
   "metadata": {},
   "source": [
    "$$ z = \\frac{m-n p_0}{\\sqrt{n p_0 q_0} } $$"
   ]
  },
  {
   "cell_type": "markdown",
   "metadata": {},
   "source": [
    "Резюмируя, **Z-тест** имеет смысл использовать если:\n",
    "* размер вашей выборки больше 30, в противном случае используйте t-тест.\n",
    "* элементы выборки независимы, то есть одно наблюдение не связано или не влияет на другое.\n",
    "* данные должны быть нормально распределены (при больших объемах выборки это не всегда имеет значение).\n",
    "* данные должны быть случайно выбраны из совокупности, где каждый элемент имеет равные шансы быть выбранным."
   ]
  },
  {
   "cell_type": "markdown",
   "metadata": {},
   "source": [
    "### T-тест"
   ]
  },
  {
   "cell_type": "markdown",
   "metadata": {},
   "source": [
    "*T-тест используется для проверки связей между числовой и категориальной переменной.* \n",
    "\n",
    "Существует три основных типа Т-теста:\n",
    "\n",
    "* по одной выборке: проверка равенства среднего значения заданному\n",
    "* для двух независимых выборок: проверка разницы средних двух выборок\n",
    "* для двух парных выборок: проверка разницы средних между двумя измерениями одного и того же объекта\n"
   ]
  },
  {
   "cell_type": "code",
   "execution_count": 15,
   "metadata": {},
   "outputs": [],
   "source": [
    "from scipy.stats import ttest_1samp"
   ]
  },
  {
   "cell_type": "markdown",
   "metadata": {},
   "source": [
    "Формула для **Т-статистики**:\n",
    "\n",
    "$$ T_{stat} = \\frac{M - \\mu}{\\hat{\\sigma} / \\sqrt{n}} $$\n",
    "\n",
    "$$ n - \\textit{размер выборки}$$"
   ]
  },
  {
   "cell_type": "markdown",
   "metadata": {},
   "source": [
    "В данном случае алгоритм такой же, как у Z-теста"
   ]
  },
  {
   "cell_type": "markdown",
   "metadata": {},
   "source": [
    "Простой пример: \n",
    "\n",
    "Проверяем гипотезу, что в среднем человек потребляет в сутки 2500 ккал в сутки (двусторонняя).\n",
    "\n",
    "Имеются данные опроса 12 человек."
   ]
  },
  {
   "cell_type": "code",
   "execution_count": 16,
   "metadata": {},
   "outputs": [],
   "source": [
    "data = [2000, 1900, 2800, 2600, 2500, 2000, 2200, 2300, 2700, 3000, 2400, 2600]"
   ]
  },
  {
   "cell_type": "code",
   "execution_count": 17,
   "metadata": {},
   "outputs": [
    {
     "data": {
      "text/plain": [
       "Ttest_1sampResult(statistic=-0.8343875188697228, pvalue=0.421813505286054)"
      ]
     },
     "execution_count": 17,
     "metadata": {},
     "output_type": "execute_result"
    }
   ],
   "source": [
    "stats.ttest_1samp(data, popmean = 2500)"
   ]
  },
  {
   "cell_type": "markdown",
   "metadata": {},
   "source": [
    "Следовательно, основная гипотеза не отвергается на любом разумном уровне значимости."
   ]
  },
  {
   "cell_type": "markdown",
   "metadata": {},
   "source": [
    "Теперь вспомним про данные по фильмам"
   ]
  },
  {
   "cell_type": "code",
   "execution_count": 18,
   "metadata": {},
   "outputs": [],
   "source": [
    "oscars = pd.read_csv('oscars_df.csv', sep=',')"
   ]
  },
  {
   "cell_type": "code",
   "execution_count": 19,
   "metadata": {},
   "outputs": [
    {
     "data": {
      "text/plain": [
       "Index(['Unnamed: 0', 'Film', 'Oscar Year', 'Film Studio/Producer(s)', 'Award',\n",
       "       'Year of Release', 'Movie Time', 'Movie Genre', 'IMDB Rating',\n",
       "       'IMDB Votes', 'Movie Info', 'Genres', 'Critic Consensus',\n",
       "       'Content Rating', 'Directors', 'Authors', 'Actors',\n",
       "       'Original Release Date', 'Streaming Release Date', 'Production Company',\n",
       "       'Tomatometer Status', 'Tomatometer Rating', 'Tomatometer Count',\n",
       "       'Audience Status', 'Audience Rating', 'Audience Count',\n",
       "       'Tomatometer Top Critics Count', 'Tomatometer Fresh Critics Count',\n",
       "       'Tomatometer Rotten Critics Count', 'Film ID'],\n",
       "      dtype='object')"
      ]
     },
     "execution_count": 19,
     "metadata": {},
     "output_type": "execute_result"
    }
   ],
   "source": [
    "oscars.columns"
   ]
  },
  {
   "cell_type": "code",
   "execution_count": 20,
   "metadata": {},
   "outputs": [
    {
     "data": {
      "text/plain": [
       "7.570402802101576"
      ]
     },
     "execution_count": 20,
     "metadata": {},
     "output_type": "execute_result"
    }
   ],
   "source": [
    "oscars['IMDB Rating'].mean()"
   ]
  },
  {
   "cell_type": "markdown",
   "metadata": {},
   "source": [
    "Проверим гипотезу, что средний IMDB рейтинг равен 7.5, против альтернативной гипотезы, что рейтинг больше."
   ]
  },
  {
   "cell_type": "code",
   "execution_count": 21,
   "metadata": {},
   "outputs": [
    {
     "data": {
      "text/plain": [
       "Ttest_1sampResult(statistic=3.006007491707009, pvalue=0.0013817734209566274)"
      ]
     },
     "execution_count": 21,
     "metadata": {},
     "output_type": "execute_result"
    }
   ],
   "source": [
    "# alternative: 'less', 'greater' or 'two-sided'\n",
    "stats.ttest_1samp(oscars['IMDB Rating'], popmean = 7.5, alternative = 'greater')"
   ]
  },
  {
   "cell_type": "markdown",
   "metadata": {},
   "source": [
    "Сформулируйте и проверьте любую свою гипотезу с помощью T-теста"
   ]
  },
  {
   "cell_type": "code",
   "execution_count": 22,
   "metadata": {},
   "outputs": [],
   "source": [
    "# YOUR CODE"
   ]
  },
  {
   "cell_type": "markdown",
   "metadata": {},
   "source": [
    "Теперь вспомним про данные по котировкам акций. \n",
    "\n",
    "* Повторите T-тест для той же гипотезы\n",
    "* Сравните среднее значение в кризисный и некризисный периоды\n"
   ]
  },
  {
   "cell_type": "code",
   "execution_count": 23,
   "metadata": {},
   "outputs": [],
   "source": [
    "# YOUR CODE"
   ]
  },
  {
   "cell_type": "markdown",
   "metadata": {},
   "source": [
    "Что почитать, где потренироваться:"
   ]
  },
  {
   "cell_type": "markdown",
   "metadata": {},
   "source": [
    "https://machinelearningmastery.com/parametric-statistical-significance-tests-in-python/\n",
    "\n",
    "https://towardsdatascience.com/an-interactive-guide-to-hypothesis-testing-in-python-979f4d62d85\n",
    "\n",
    "https://towardsdatascience.com/hypothesis-testing-z-scores-337fb06e26ab\n",
    "\n"
   ]
  },
  {
   "cell_type": "code",
   "execution_count": null,
   "metadata": {},
   "outputs": [],
   "source": []
  },
  {
   "cell_type": "code",
   "execution_count": null,
   "metadata": {},
   "outputs": [],
   "source": []
  }
 ],
 "metadata": {
  "kernelspec": {
   "display_name": "Python 3 (ipykernel)",
   "language": "python",
   "name": "python3"
  },
  "language_info": {
   "codemirror_mode": {
    "name": "ipython",
    "version": 3
   },
   "file_extension": ".py",
   "mimetype": "text/x-python",
   "name": "python",
   "nbconvert_exporter": "python",
   "pygments_lexer": "ipython3",
   "version": "3.9.7"
  }
 },
 "nbformat": 4,
 "nbformat_minor": 4
}
