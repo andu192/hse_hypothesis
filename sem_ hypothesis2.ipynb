{
 "cells": [
  {
   "cell_type": "markdown",
   "metadata": {},
   "source": [
    "## Семинар 6 - Продолжение проверки гипотез"
   ]
  },
  {
   "cell_type": "markdown",
   "metadata": {},
   "source": [
    "Вспоминая предыдущий семинар, рассмотрим следующий пример:"
   ]
  },
  {
   "cell_type": "markdown",
   "metadata": {},
   "source": [
    "**Леди, дегустирующая чай**\n",
    "\n",
    "Известный статистик Рональд Фишер провел [эксперимент](https://ru.wikipedia.org/wiki/%D0%9B%D0%B5%D0%B4%D0%B8,_%D0%B4%D0%B5%D0%B3%D1%83%D1%81%D1%82%D0%B8%D1%80%D1%83%D1%8E%D1%89%D0%B0%D1%8F_%D1%87%D0%B0%D0%B9), в котором предложил даме 8 чашек чая, в 4 из которых сначала добавили чай, а потом молоко, а в 4 другие – наоборот (сначала молоко, потом чай). \n",
    "Ей необходимо было разбить чашки на две группы (первым было \n",
    "молоко или первым был чай). \n",
    "Проверялась гипотеза о том, что дама случайно угадывает, что было налито первым. \n",
    "В ходе анализа этого эксперимента Фишер придумал так называемый [Точный тест Фишера](https://ru.wikipedia.org/wiki/Точный_тест_Фишера), а дама подтвердила свое умение определять, что было первым налито в чашку.\n"
   ]
  },
  {
   "cell_type": "markdown",
   "metadata": {},
   "source": [
    "<center>\n",
    "<img src=\"lady.png\" width=\"400\" height=\"400\">\n",
    "</center>"
   ]
  },
  {
   "cell_type": "markdown",
   "metadata": {},
   "source": [
    "Проведем следующий эксперимент:\n",
    "\n",
    "Будем предлагать даме по 2 чашки с разным чаем, чтобы она выбрала в которой из них сначала налито молоко.\n",
    "Повторим эксперимент 10 раз.\n",
    "\n",
    "Выбор дамы будем фиксировать: 0 - сначала молоко, 1 - сначала чай. Данная величина будет иметь распределение Бернулли."
   ]
  },
  {
   "cell_type": "markdown",
   "metadata": {},
   "source": [
    "Предположим, что дама выбирает наугад, тогда мы равновероятно можем получить любой из $2^n$ бинарных векторов длины $n$ (в нашам случае 10)&\n",
    "\n",
    "Нулевая гипотеза выбора наугад соответствует значению $p=\\frac{1}{2}$, то есть, в каждом эксперименте вероятность выбора чая, в который сначала налито молоко – $\\frac{1}{2}$. \n",
    "Сумма 10 одинаково распределённых бернуллиевских случайных величин с параметром $p$ имеет биномиальное распределение $Bin(10, p)$. Тогда нулевое распределение статистики $T$ — $Bin\\left(10, \\frac1{2}\\right)$."
   ]
  },
  {
   "cell_type": "code",
   "execution_count": 1,
   "metadata": {},
   "outputs": [],
   "source": [
    "import numpy as np\n",
    "import pandas as pd\n",
    "from scipy import stats\n",
    "import scipy"
   ]
  },
  {
   "cell_type": "code",
   "execution_count": 2,
   "metadata": {},
   "outputs": [],
   "source": [
    "# Биномиальное распределение\n",
    "n = 10\n",
    "F_H0 = stats.binom(n, 0.5)"
   ]
  },
  {
   "cell_type": "markdown",
   "metadata": {},
   "source": [
    "Есть несколько вариантов выбора альтернативной гипотезы:\n",
    "\n",
    "Односторонняя означает, что мы проверяем гипотезу: дама угадывает лучше, чем наугад (чаще действительно угадывает молоко)."
   ]
  },
  {
   "cell_type": "code",
   "execution_count": 3,
   "metadata": {},
   "outputs": [
    {
     "data": {
      "text/plain": [
       "0.0107421875"
      ]
     },
     "execution_count": 3,
     "metadata": {},
     "output_type": "execute_result"
    }
   ],
   "source": [
    "stats.binom_test(9, 10, 0.5, alternative = 'greater')"
   ]
  },
  {
   "cell_type": "markdown",
   "metadata": {},
   "source": [
    "Двусторонняя означает, что мы проверяем гипотезу: дама угадывает не наугад (или чаще действительно угадывает молоко или чаще вместо молока указывает на чай)\n"
   ]
  },
  {
   "cell_type": "code",
   "execution_count": 4,
   "metadata": {},
   "outputs": [
    {
     "data": {
      "text/plain": [
       "0.021484375"
      ]
     },
     "execution_count": 4,
     "metadata": {},
     "output_type": "execute_result"
    }
   ],
   "source": [
    "stats.binom_test(9, 10, 0.5, alternative = 'two-sided')"
   ]
  },
  {
   "cell_type": "markdown",
   "metadata": {},
   "source": [
    "Заметим, что и в первом случае для стат.значимости надо угадать 9 раз из 10, а во втором - или угадать 9 раз или ошибиться 9 раз."
   ]
  },
  {
   "cell_type": "markdown",
   "metadata": {},
   "source": [
    "**Авокадо**"
   ]
  },
  {
   "cell_type": "markdown",
   "metadata": {},
   "source": [
    "Теперь рассмотрим пример, где эксперимент можно произвести очень много раз.\n",
    "\n",
    "Предположим, мы проверяем умеет ли сотрудник магазина овощей и фруктов визуально определять свежий авокадо или нет.\n",
    "\n",
    "Кстати, вопрос: авокадо - фрукт или овощ? А может ягода?"
   ]
  },
  {
   "cell_type": "markdown",
   "metadata": {},
   "source": [
    "<center>\n",
    "<img src=\"avocado_picture.jpeg\" width=\"300\" height=\"100\">\n",
    "</center>"
   ]
  },
  {
   "cell_type": "markdown",
   "metadata": {},
   "source": [
    "Проведем эксперимент 1000 раз. \n",
    "\n",
    "Предположим, что ответ консультанта как результат подбрасывания правильной монеты, то есть вероятность того или иного ответа равна 0.5"
   ]
  },
  {
   "cell_type": "markdown",
   "metadata": {},
   "source": [
    " **Z-критерий для доли**\n",
    "\n",
    "**Выборка**    $X_n = {X_1 ... X_n}$ из распределения Бернулли $X \\sim Ber(p)$\n",
    "\n",
    "**Нулевая гипотеза**    $H_0: p = p_0$\n",
    "\n",
    "**Альтернативная гипотеза**     $H_1: \\hat p = p_0$  (Двусторонняя альтернатива)\n",
    "\n",
    "**Статистика** $$ Z_n = \\dfrac{\\hat p-p_0}{\\sqrt{\\dfrac{p_0(1-p_0)}{n}}}$$\n",
    "\n",
    "**Нулевое распределение** $Z_n \\sim N(0,1)$"
   ]
  },
  {
   "cell_type": "code",
   "execution_count": 5,
   "metadata": {},
   "outputs": [],
   "source": [
    "# консультант 550 ответил правильно и 450 нет\n",
    "result = np.concatenate((np.ones(550), np.zeros(450)))"
   ]
  },
  {
   "cell_type": "code",
   "execution_count": 6,
   "metadata": {},
   "outputs": [
    {
     "data": {
      "text/plain": [
       "3.162277660168382"
      ]
     },
     "execution_count": 6,
     "metadata": {},
     "output_type": "execute_result"
    }
   ],
   "source": [
    "p_0 = 0.5\n",
    "\n",
    "mean = result.mean()\n",
    "\n",
    "z_stat = (mean - p_0)/np.sqrt(p_0 * (1 - p_0)/len(result))\n",
    "\n",
    "z_stat"
   ]
  },
  {
   "cell_type": "markdown",
   "metadata": {},
   "source": [
    "Доверительный интервал для $p_0$ :\n",
    "\n",
    "$$ \\hat p - Z_{0.5 \\alpha} \\sqrt{\\dfrac{ \\hat p(1- \\hat p)}{n}} < p_{0} < \\hat p + Z_{0.5 \\alpha} \\sqrt{\\dfrac{ \\hat p(1- \\hat p)}{n}} $$"
   ]
  },
  {
   "cell_type": "code",
   "execution_count": 7,
   "metadata": {},
   "outputs": [
    {
     "data": {
      "text/plain": [
       "(0.5191650198637976, 0.5808349801362025)"
      ]
     },
     "execution_count": 7,
     "metadata": {},
     "output_type": "execute_result"
    }
   ],
   "source": [
    "mean - 1.96 * np.sqrt(mean * (1 - mean)/len(result)), mean + 1.96 * np.sqrt(mean * (1 - mean)/len(result))"
   ]
  },
  {
   "cell_type": "markdown",
   "metadata": {},
   "source": [
    "Таким образом, в данном примере продавец решает поставленную задачу с большой вероятностью лучше бросания монетки."
   ]
  },
  {
   "cell_type": "markdown",
   "metadata": {},
   "source": [
    "### Резюмируя, какой же тест использовать?"
   ]
  },
  {
   "cell_type": "markdown",
   "metadata": {},
   "source": [
    "#### Единственная выборка"
   ]
  },
  {
   "cell_type": "markdown",
   "metadata": {},
   "source": [
    "$X_n = {X_1 ... X_n}$ - независимы и одинаково распределены (не обязательно нормально) и наблюдений много: \n",
    "\n",
    "$$H_0: \\mu = \\mu_0$$, $$H_a: \\mu \\neq \\mu_0$$ \n",
    "\n",
    "$$ Z = \\dfrac{\\bar{X}-\\mu_0}{\\sqrt{\\dfrac{\\hat \\sigma^2}{n}}}$$\n",
    "\n",
    "$$ \\text{При верной } H_0 : Z \\rightarrow N(0,1) $$\n"
   ]
  },
  {
   "cell_type": "markdown",
   "metadata": {},
   "source": [
    "$X_n = {X_1 ... X_n}$ - независимы и одинаково **нормально** распределены и наблюдений не обязательно много: \n",
    "\n",
    "$$H_0: \\mu = \\mu_0$$, $$H_a: \\mu \\neq \\mu_0$$ \n",
    "\n",
    "$$ t = \\dfrac{\\bar{X}-\\mu_0}{\\sqrt{\\dfrac{\\hat \\sigma^2}{n}}}$$\n",
    "\n",
    "$$ \\text{При верной } H_0 : t \\sim t_{n-1} $$"
   ]
  },
  {
   "cell_type": "markdown",
   "metadata": {},
   "source": [
    "$X_n = {X_1 ... X_n}$ - независимы и одинаково **нормально** распределены и наблюдений не обязательно много и **известна** $\\sigma^2$\n",
    "\n",
    "$$H_0: \\mu = \\mu_0$$, $$H_a: \\mu \\neq \\mu_0$$ \n",
    "\n",
    "$$ Z = \\dfrac{\\bar{X}-\\mu_0}{\\sqrt{\\dfrac{\\sigma^2}{n}}}$$\n",
    "\n",
    "$$ \\text{При верной } H_0 : Z \\sim N(0,1) $$"
   ]
  },
  {
   "cell_type": "markdown",
   "metadata": {},
   "source": [
    "$X_n = {X_1 ... X_n}$ - независимы и имеют **распределение Бернулли** и наблюдений много: \n",
    "\n",
    "$$H_0: p = p_0$$, $$H_a: p \\neq p_0$$ \n",
    "\n",
    "$$ Z = \\dfrac{\\hat p-p_0}{\\sqrt{\\dfrac{p_0(1-p_0)}{n}}}$$\n",
    "\n",
    "$$ \\text{При верной } H_0 : Z \\rightarrow N(0,1) $$\n"
   ]
  },
  {
   "cell_type": "markdown",
   "metadata": {},
   "source": [
    "### Пара выборок"
   ]
  },
  {
   "cell_type": "markdown",
   "metadata": {},
   "source": [
    "Гипотеза о разнице ожиданий при большом количестве наюлюдений\n",
    "\n",
    "$X_n = {X_1 ... X_n}$ - одинаково распределены, не обязательно нормально\n",
    "\n",
    "$Y_k= {Y_1 ... Y_k}$ - одинаково распределены, не обязательно нормально, возможно, не так как $X$\n",
    "\n",
    "Возможно, $n \\neq k$, но оба значения достаточно велики\n",
    "\n",
    "$$H_0: \\mu_x - \\mu_y = \\delta $$, $$H_a: \\mu_x - \\mu_y \\neq \\delta$$\n",
    "\n",
    "$$ Z = \\frac{\\bar X - \\bar Y - \\delta}{\\sqrt{\\frac{\\hat\\sigma^2_{x}}{n_x} + \\frac{\\hat\\sigma^2_{y}}{n_y}}} $$\n",
    "\n",
    "$$ \\text{При верной } H_0 : Z \\rightarrow N(0,1) $$\n",
    "\n",
    "$$ \\text{Если дисперсии известны, то } H_0 : Z \\sim N(0,1) $$"
   ]
  },
  {
   "cell_type": "markdown",
   "metadata": {},
   "source": [
    "С парой выборок мы еще не сталкивались, поэтому рассмотрим **пример**, но перед этим вспомним про p-value"
   ]
  },
  {
   "cell_type": "markdown",
   "metadata": {},
   "source": [
    "**Определение** \n",
    "\n",
    "*p-value* или достигаемый уровень значимости это вероятность получить такое же или еще более экстремальное значение статистики, чем было получено в эксперименте, при условии справедливости $H_0$\n",
    "\n",
    "То есть если p-value достаточно мало, это значит, что данные свидетельствуют против нулевой гипотезы, потому что вероятность получить такое значение при ее справедливости мала. Обычно p-value сравнивают с заранее заданным уровнем значимости $\\alpha$, обычно 0.05 или 0.01. Ну и если $p-value < \\alpha$, говорят, что нулевая гипотеза отвергается в пользу альтернативы."
   ]
  },
  {
   "cell_type": "markdown",
   "metadata": {},
   "source": [
    "### Online VS Offline"
   ]
  },
  {
   "cell_type": "markdown",
   "metadata": {},
   "source": [
    "Лектор записывал свои лекции для студентов, которые не присутствовали на паре, чтобы они могли посмотреть материал позже в удобное время.\n",
    "Однако он предположил, что студенты, присутствовашие на паре очно лучше усвоили материал.\n",
    "В конце курса лектор записал экзаменационные баллы тех и других студентов и решил статистически проверить свою гипотезу."
   ]
  },
  {
   "cell_type": "code",
   "execution_count": 8,
   "metadata": {},
   "outputs": [],
   "source": [
    "online = [95, 89, 68, 80, 77, 87, 93, 71, 74, 85]\n",
    "offline = [77, 91, 85, 67, 50, 61, 54, 81, 73, 86]"
   ]
  },
  {
   "cell_type": "markdown",
   "metadata": {},
   "source": [
    "Проверим гипотезу на 5% уровне значимости "
   ]
  },
  {
   "cell_type": "markdown",
   "metadata": {},
   "source": [
    "$$H_0: \\mu_{off} \\leq \\mu_{on} $$, $$H_a: \\mu_{off} > \\mu_{on} $$\n"
   ]
  },
  {
   "cell_type": "markdown",
   "metadata": {},
   "source": [
    "Z-критерий и t-критерий проверяют простую гипотезу о равенстве средних двух нормальных распределений против любой альтернативы. \n",
    "Z-критерий не будем рассматривать, так как для него необходимо знать дисперсию (которая в реальности не является известной).\n",
    "t-критерий частично реализован с помощью функции ttest_ind:\n",
    "\n",
    "* **stats.ttest_ind(sample1, sample2, equal_var)** — t-критерий для случая независимых выборок. \n",
    "\n",
    "sample1 и sample2 — реализации первой и второй выборки\n",
    "\n",
    "equal_var булевая переменная, которая связана с предположением равенства дисперсии"
   ]
  },
  {
   "cell_type": "code",
   "execution_count": 9,
   "metadata": {},
   "outputs": [],
   "source": [
    "# Постройте ящики с усами для 2 данных выборок, чтобы визуально оценить отличия\n",
    "# YOUR CODE"
   ]
  },
  {
   "cell_type": "code",
   "execution_count": 10,
   "metadata": {},
   "outputs": [
    {
     "name": "stdout",
     "output_type": "stream",
     "text": [
      "1.7599581460531524 0.09539812817336057\n"
     ]
    }
   ],
   "source": [
    "ttest, pval = stats.ttest_ind(online, offline, 0)\n",
    "print(ttest, pval)"
   ]
  },
  {
   "cell_type": "markdown",
   "metadata": {},
   "source": [
    "Так как гипотеза односторонняя, делим p-value на 2"
   ]
  },
  {
   "cell_type": "code",
   "execution_count": 11,
   "metadata": {},
   "outputs": [
    {
     "data": {
      "text/plain": [
       "0.04769906408668029"
      ]
     },
     "execution_count": 11,
     "metadata": {},
     "output_type": "execute_result"
    }
   ],
   "source": [
    "pval/2"
   ]
  },
  {
   "cell_type": "markdown",
   "metadata": {},
   "source": [
    "Так как p-value < 0.05 отвергаем нулевую гипотезу."
   ]
  },
  {
   "cell_type": "markdown",
   "metadata": {},
   "source": [
    "До этого мы использовали независимые выборки.\n",
    "\n",
    "Парный t-критерий Стьюдента используется для сравнения двух зависимых (парных) выборок. \n",
    "Зависимыми являются измерения, например, выполненные у одних и тех же пациентов, но в разное время, при каких-то определенных условиях"
   ]
  },
  {
   "cell_type": "markdown",
   "metadata": {},
   "source": [
    "Будем использовать [данные](https://github.com/Opensourcefordatascience/Data-sets/blob/master/blood_pressure.csv) артериального давления пациентов до и после операции. \n",
    "Это переменные bp_before и bp_after"
   ]
  },
  {
   "cell_type": "markdown",
   "metadata": {},
   "source": [
    "$$H_0: \\delta = 0 $$, $$H_a: \\delta \\neq 0 $$"
   ]
  },
  {
   "cell_type": "code",
   "execution_count": 12,
   "metadata": {},
   "outputs": [
    {
     "data": {
      "text/html": [
       "<div>\n",
       "<style scoped>\n",
       "    .dataframe tbody tr th:only-of-type {\n",
       "        vertical-align: middle;\n",
       "    }\n",
       "\n",
       "    .dataframe tbody tr th {\n",
       "        vertical-align: top;\n",
       "    }\n",
       "\n",
       "    .dataframe thead th {\n",
       "        text-align: right;\n",
       "    }\n",
       "</style>\n",
       "<table border=\"1\" class=\"dataframe\">\n",
       "  <thead>\n",
       "    <tr style=\"text-align: right;\">\n",
       "      <th></th>\n",
       "      <th>bp_before</th>\n",
       "      <th>bp_after</th>\n",
       "    </tr>\n",
       "  </thead>\n",
       "  <tbody>\n",
       "    <tr>\n",
       "      <th>count</th>\n",
       "      <td>120.000000</td>\n",
       "      <td>120.000000</td>\n",
       "    </tr>\n",
       "    <tr>\n",
       "      <th>mean</th>\n",
       "      <td>156.450000</td>\n",
       "      <td>151.358333</td>\n",
       "    </tr>\n",
       "    <tr>\n",
       "      <th>std</th>\n",
       "      <td>11.389845</td>\n",
       "      <td>14.177622</td>\n",
       "    </tr>\n",
       "    <tr>\n",
       "      <th>min</th>\n",
       "      <td>138.000000</td>\n",
       "      <td>125.000000</td>\n",
       "    </tr>\n",
       "    <tr>\n",
       "      <th>25%</th>\n",
       "      <td>147.000000</td>\n",
       "      <td>140.750000</td>\n",
       "    </tr>\n",
       "    <tr>\n",
       "      <th>50%</th>\n",
       "      <td>154.500000</td>\n",
       "      <td>149.500000</td>\n",
       "    </tr>\n",
       "    <tr>\n",
       "      <th>75%</th>\n",
       "      <td>164.000000</td>\n",
       "      <td>161.000000</td>\n",
       "    </tr>\n",
       "    <tr>\n",
       "      <th>max</th>\n",
       "      <td>185.000000</td>\n",
       "      <td>185.000000</td>\n",
       "    </tr>\n",
       "  </tbody>\n",
       "</table>\n",
       "</div>"
      ],
      "text/plain": [
       "        bp_before    bp_after\n",
       "count  120.000000  120.000000\n",
       "mean   156.450000  151.358333\n",
       "std     11.389845   14.177622\n",
       "min    138.000000  125.000000\n",
       "25%    147.000000  140.750000\n",
       "50%    154.500000  149.500000\n",
       "75%    164.000000  161.000000\n",
       "max    185.000000  185.000000"
      ]
     },
     "execution_count": 12,
     "metadata": {},
     "output_type": "execute_result"
    }
   ],
   "source": [
    "df = pd.read_csv(\"blood_pressure.csv\")\n",
    "\n",
    "df[['bp_before','bp_after']].describe()"
   ]
  },
  {
   "cell_type": "markdown",
   "metadata": {},
   "source": [
    "**Задание:** Постройте гистограммы по группам (выберите наиболее подходящий тип)"
   ]
  },
  {
   "cell_type": "code",
   "execution_count": 13,
   "metadata": {},
   "outputs": [],
   "source": [
    "# YOUR CODE"
   ]
  },
  {
   "cell_type": "code",
   "execution_count": 14,
   "metadata": {},
   "outputs": [
    {
     "data": {
      "text/plain": [
       "Ttest_relResult(statistic=3.3371870510833657, pvalue=0.0011297914644840823)"
      ]
     },
     "execution_count": 14,
     "metadata": {},
     "output_type": "execute_result"
    }
   ],
   "source": [
    "stats.ttest_rel(df['bp_before'], df['bp_after'])"
   ]
  },
  {
   "cell_type": "markdown",
   "metadata": {},
   "source": [
    "**Задание:** проинтерпретируйте гипотезы и результат теста.\n",
    "Значим ли эффект изменения давления после операции для одних и тех же пациентов?"
   ]
  },
  {
   "cell_type": "markdown",
   "metadata": {},
   "source": [
    "На этом же датасете сравните среднее давление среди мужчин и женщин в соответствующих возрастных группах (их 3)\n",
    "\n",
    "Какой тест вы будете использовать: для независимых выборок или парных?\n",
    "\n",
    "Поэкспериментируйте с гистограммами"
   ]
  },
  {
   "cell_type": "code",
   "execution_count": 15,
   "metadata": {},
   "outputs": [
    {
     "data": {
      "text/html": [
       "<div>\n",
       "<style scoped>\n",
       "    .dataframe tbody tr th:only-of-type {\n",
       "        vertical-align: middle;\n",
       "    }\n",
       "\n",
       "    .dataframe tbody tr th {\n",
       "        vertical-align: top;\n",
       "    }\n",
       "\n",
       "    .dataframe thead th {\n",
       "        text-align: right;\n",
       "    }\n",
       "</style>\n",
       "<table border=\"1\" class=\"dataframe\">\n",
       "  <thead>\n",
       "    <tr style=\"text-align: right;\">\n",
       "      <th></th>\n",
       "      <th>patient</th>\n",
       "      <th>sex</th>\n",
       "      <th>agegrp</th>\n",
       "      <th>bp_before</th>\n",
       "      <th>bp_after</th>\n",
       "    </tr>\n",
       "  </thead>\n",
       "  <tbody>\n",
       "    <tr>\n",
       "      <th>0</th>\n",
       "      <td>1</td>\n",
       "      <td>Male</td>\n",
       "      <td>30-45</td>\n",
       "      <td>143</td>\n",
       "      <td>153</td>\n",
       "    </tr>\n",
       "    <tr>\n",
       "      <th>1</th>\n",
       "      <td>2</td>\n",
       "      <td>Male</td>\n",
       "      <td>30-45</td>\n",
       "      <td>163</td>\n",
       "      <td>170</td>\n",
       "    </tr>\n",
       "    <tr>\n",
       "      <th>2</th>\n",
       "      <td>3</td>\n",
       "      <td>Male</td>\n",
       "      <td>30-45</td>\n",
       "      <td>153</td>\n",
       "      <td>168</td>\n",
       "    </tr>\n",
       "    <tr>\n",
       "      <th>3</th>\n",
       "      <td>4</td>\n",
       "      <td>Male</td>\n",
       "      <td>30-45</td>\n",
       "      <td>153</td>\n",
       "      <td>142</td>\n",
       "    </tr>\n",
       "    <tr>\n",
       "      <th>4</th>\n",
       "      <td>5</td>\n",
       "      <td>Male</td>\n",
       "      <td>30-45</td>\n",
       "      <td>146</td>\n",
       "      <td>141</td>\n",
       "    </tr>\n",
       "  </tbody>\n",
       "</table>\n",
       "</div>"
      ],
      "text/plain": [
       "   patient   sex agegrp  bp_before  bp_after\n",
       "0        1  Male  30-45        143       153\n",
       "1        2  Male  30-45        163       170\n",
       "2        3  Male  30-45        153       168\n",
       "3        4  Male  30-45        153       142\n",
       "4        5  Male  30-45        146       141"
      ]
     },
     "execution_count": 15,
     "metadata": {},
     "output_type": "execute_result"
    }
   ],
   "source": [
    "df.head()"
   ]
  },
  {
   "cell_type": "code",
   "execution_count": 16,
   "metadata": {},
   "outputs": [],
   "source": [
    "# YOUR CODE"
   ]
  }
 ],
 "metadata": {
  "kernelspec": {
   "display_name": "Python 3 (ipykernel)",
   "language": "python",
   "name": "python3"
  },
  "language_info": {
   "codemirror_mode": {
    "name": "ipython",
    "version": 3
   },
   "file_extension": ".py",
   "mimetype": "text/x-python",
   "name": "python",
   "nbconvert_exporter": "python",
   "pygments_lexer": "ipython3",
   "version": "3.9.7"
  }
 },
 "nbformat": 4,
 "nbformat_minor": 4
}
